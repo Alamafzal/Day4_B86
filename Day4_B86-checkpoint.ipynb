{
 "cells": [
  {
   "cell_type": "code",
   "execution_count": 1,
   "id": "f92f766a-a93f-4cb0-b365-8cc31cdb59b9",
   "metadata": {},
   "outputs": [],
   "source": [
    "students=['likitha','keerthi','naveed', 'umar','santosh','joseph']"
   ]
  },
  {
   "cell_type": "raw",
   "id": "50ac307e-0451-4119-b597-08a0bea6070a",
   "metadata": {},
   "source": []
  },
  {
   "cell_type": "code",
   "execution_count": 2,
   "id": "e58cb9cb-a16e-4729-bb5c-f8daa2ca7cf7",
   "metadata": {},
   "outputs": [
    {
     "name": "stdout",
     "output_type": "stream",
     "text": [
      "['likitha', 'keerthi', 'naveed', 'umar', 'santosh', 'joseph']\n"
     ]
    }
   ],
   "source": [
    "print(students)"
   ]
  },
  {
   "cell_type": "code",
   "execution_count": 3,
   "id": "5475b98d-b048-427f-9b68-1ef1001a0613",
   "metadata": {},
   "outputs": [
    {
     "data": {
      "text/plain": [
       "list"
      ]
     },
     "execution_count": 3,
     "metadata": {},
     "output_type": "execute_result"
    }
   ],
   "source": [
    "type(students)"
   ]
  },
  {
   "cell_type": "code",
   "execution_count": null,
   "id": "86285675-993c-420c-838e-08012af4057a",
   "metadata": {},
   "outputs": [],
   "source": []
  },
  {
   "cell_type": "code",
   "execution_count": 4,
   "id": "75710d0a-bd61-4b76-962e-57dd32f891ed",
   "metadata": {},
   "outputs": [],
   "source": [
    "# I want to access the name likitha on the output"
   ]
  },
  {
   "cell_type": "code",
   "execution_count": 5,
   "id": "e5c9f5aa-bd75-4aef-b979-8e244ff95472",
   "metadata": {},
   "outputs": [
    {
     "name": "stdout",
     "output_type": "stream",
     "text": [
      "likitha\n"
     ]
    }
   ],
   "source": [
    "print(students[0])"
   ]
  },
  {
   "cell_type": "code",
   "execution_count": 6,
   "id": "362febd0-58fb-451e-8b96-38feb8efa4d5",
   "metadata": {},
   "outputs": [
    {
     "name": "stdout",
     "output_type": "stream",
     "text": [
      "Likitha\n"
     ]
    }
   ],
   "source": [
    "print(students[0].title())"
   ]
  },
  {
   "cell_type": "code",
   "execution_count": null,
   "id": "44cb42ff-d757-4733-a613-ab5a0fb533bb",
   "metadata": {},
   "outputs": [],
   "source": []
  },
  {
   "cell_type": "code",
   "execution_count": 7,
   "id": "39e9efec-f79c-4603-9c4d-893e7cfa0422",
   "metadata": {},
   "outputs": [],
   "source": [
    "# I want to add babji to the list above"
   ]
  },
  {
   "cell_type": "code",
   "execution_count": 9,
   "id": "536a238e-5e9b-4d9c-a1f8-094cf932cb5b",
   "metadata": {},
   "outputs": [],
   "source": [
    "students.append('babji')"
   ]
  },
  {
   "cell_type": "code",
   "execution_count": 10,
   "id": "d28ce83f-bc14-4683-a86d-565f99b8d9d0",
   "metadata": {},
   "outputs": [
    {
     "name": "stdout",
     "output_type": "stream",
     "text": [
      "['likitha', 'keerthi', 'naveed', 'umar', 'santosh', 'joseph', 'babji']\n"
     ]
    }
   ],
   "source": [
    "print(students)"
   ]
  },
  {
   "cell_type": "code",
   "execution_count": null,
   "id": "c0d2be1d-11af-4fdf-9948-84beb988dfec",
   "metadata": {},
   "outputs": [],
   "source": []
  },
  {
   "cell_type": "code",
   "execution_count": 11,
   "id": "ee7c3eba-e53c-4f99-a19a-476adffda1db",
   "metadata": {},
   "outputs": [],
   "source": [
    "# I want to add manju to the list above"
   ]
  },
  {
   "cell_type": "code",
   "execution_count": 12,
   "id": "c5bead2c-83dc-432a-b9cf-c7ce93dc9cf6",
   "metadata": {},
   "outputs": [],
   "source": [
    "students.append('manju')"
   ]
  },
  {
   "cell_type": "code",
   "execution_count": 13,
   "id": "429ab308-5cd9-44b0-8e68-c5b3a9a558d4",
   "metadata": {},
   "outputs": [
    {
     "name": "stdout",
     "output_type": "stream",
     "text": [
      "['likitha', 'keerthi', 'naveed', 'umar', 'santosh', 'joseph', 'babji', 'manju']\n"
     ]
    }
   ],
   "source": [
    "print(students)"
   ]
  },
  {
   "cell_type": "code",
   "execution_count": null,
   "id": "06b9d3b6-9773-4d0e-9fd9-5710299869fb",
   "metadata": {},
   "outputs": [],
   "source": []
  },
  {
   "cell_type": "code",
   "execution_count": 14,
   "id": "2e80e634-3d6f-497b-b3a0-b9401cafaee6",
   "metadata": {},
   "outputs": [],
   "source": [
    "# I want to add mariya to the second index"
   ]
  },
  {
   "cell_type": "raw",
   "id": "cc919e2e-ce3f-4d63-95a9-6bd8e6f55563",
   "metadata": {},
   "source": []
  },
  {
   "cell_type": "code",
   "execution_count": 15,
   "id": "228340cb-3d7f-4cdd-8fcf-e87df59edbfd",
   "metadata": {},
   "outputs": [],
   "source": [
    "students.insert(2,'mariya')"
   ]
  },
  {
   "cell_type": "code",
   "execution_count": 17,
   "id": "01566412-73fe-4ce9-8841-ae6c950e3183",
   "metadata": {},
   "outputs": [
    {
     "name": "stdout",
     "output_type": "stream",
     "text": [
      "['likitha', 'keerthi', 'mariya', 'naveed', 'umar', 'santosh', 'joseph', 'babji', 'manju']\n"
     ]
    }
   ],
   "source": [
    "print (students)"
   ]
  },
  {
   "cell_type": "code",
   "execution_count": 18,
   "id": "3d2afac9-291b-4b27-86b1-e0c48e06f594",
   "metadata": {},
   "outputs": [
    {
     "name": "stdout",
     "output_type": "stream",
     "text": [
      "mariya\n"
     ]
    }
   ],
   "source": [
    "print(students[2])"
   ]
  },
  {
   "cell_type": "code",
   "execution_count": null,
   "id": "70bfd013-b03b-4978-a1ec-330c8614ebba",
   "metadata": {},
   "outputs": [],
   "source": []
  },
  {
   "cell_type": "code",
   "execution_count": 19,
   "id": "8e2f65a8-1f3d-4606-8e7b-51b473ca1628",
   "metadata": {},
   "outputs": [
    {
     "name": "stdout",
     "output_type": "stream",
     "text": [
      "['likitha', 'keerthi', 'mariya', 'naveed', 'umar', 'santosh', 'joseph', 'babji', 'manju']\n"
     ]
    }
   ],
   "source": [
    "print(students)"
   ]
  },
  {
   "cell_type": "code",
   "execution_count": null,
   "id": "b87330c2-acdd-4edf-9b6c-2f0a3404f2b7",
   "metadata": {},
   "outputs": [],
   "source": []
  },
  {
   "cell_type": "code",
   "execution_count": 20,
   "id": "40e6790f-8cfb-4ee6-a29f-bd2f1736575d",
   "metadata": {},
   "outputs": [],
   "source": [
    "# I want to modify keerthi name to karhtik"
   ]
  },
  {
   "cell_type": "code",
   "execution_count": 21,
   "id": "3859ad72-58e9-49f3-973e-7ab1595f64ba",
   "metadata": {},
   "outputs": [],
   "source": [
    "students[1]='karthik'"
   ]
  },
  {
   "cell_type": "raw",
   "id": "baefbf59-cfe9-4f21-9850-7d989ee36200",
   "metadata": {},
   "source": []
  },
  {
   "cell_type": "code",
   "execution_count": 22,
   "id": "4a023429-47fd-4780-924a-db15b265c72f",
   "metadata": {},
   "outputs": [
    {
     "name": "stdout",
     "output_type": "stream",
     "text": [
      "['likitha', 'karthik', 'mariya', 'naveed', 'umar', 'santosh', 'joseph', 'babji', 'manju']\n"
     ]
    }
   ],
   "source": [
    "print(students)"
   ]
  },
  {
   "cell_type": "code",
   "execution_count": null,
   "id": "84f801ce-6025-460d-a91e-6d73e2fbf21a",
   "metadata": {},
   "outputs": [],
   "source": []
  },
  {
   "cell_type": "code",
   "execution_count": 23,
   "id": "de52bec4-d889-4346-9b0d-826ac1c62658",
   "metadata": {},
   "outputs": [],
   "source": [
    "#  I want to delete naveed in the above list"
   ]
  },
  {
   "cell_type": "code",
   "execution_count": 24,
   "id": "da22c484-9b79-4771-a2e5-bb8f96142f17",
   "metadata": {},
   "outputs": [],
   "source": [
    "del students[3]"
   ]
  },
  {
   "cell_type": "code",
   "execution_count": 25,
   "id": "d199c49c-a46c-42c2-bd20-b51d576e513e",
   "metadata": {},
   "outputs": [
    {
     "name": "stdout",
     "output_type": "stream",
     "text": [
      "['likitha', 'karthik', 'mariya', 'umar', 'santosh', 'joseph', 'babji', 'manju']\n"
     ]
    }
   ],
   "source": [
    "print (students)"
   ]
  },
  {
   "cell_type": "code",
   "execution_count": null,
   "id": "a181b7a2-3368-42cb-840c-26bdaefe7c19",
   "metadata": {},
   "outputs": [],
   "source": []
  },
  {
   "cell_type": "code",
   "execution_count": null,
   "id": "dd82d1d8-e703-40b7-88cb-6ada8b48e422",
   "metadata": {},
   "outputs": [],
   "source": []
  }
 ],
 "metadata": {
  "kernelspec": {
   "display_name": "Python 3 (ipykernel)",
   "language": "python",
   "name": "python3"
  },
  "language_info": {
   "codemirror_mode": {
    "name": "ipython",
    "version": 3
   },
   "file_extension": ".py",
   "mimetype": "text/x-python",
   "name": "python",
   "nbconvert_exporter": "python",
   "pygments_lexer": "ipython3",
   "version": "3.11.7"
  }
 },
 "nbformat": 4,
 "nbformat_minor": 5
}
